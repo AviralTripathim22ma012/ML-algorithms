{
  "nbformat": 4,
  "nbformat_minor": 0,
  "metadata": {
    "colab": {
      "provenance": [],
      "include_colab_link": true
    },
    "kernelspec": {
      "name": "python3",
      "display_name": "Python 3"
    },
    "language_info": {
      "name": "python"
    }
  },
  "cells": [
    {
      "cell_type": "markdown",
      "metadata": {
        "id": "view-in-github",
        "colab_type": "text"
      },
      "source": [
        "<a href=\"https://colab.research.google.com/github/AviralTripathim22ma012/ML-algorithms/blob/main/ML.ipynb\" target=\"_parent\"><img src=\"https://colab.research.google.com/assets/colab-badge.svg\" alt=\"Open In Colab\"/></a>"
      ]
    },
    {
      "cell_type": "code",
      "execution_count": null,
      "metadata": {
        "colab": {
          "base_uri": "https://localhost:8080/",
          "height": 156
        },
        "id": "OBQVmbj59mIe",
        "outputId": "f6ce7cfe-25c5-4c15-f43d-a2f026215479"
      },
      "outputs": [
        {
          "output_type": "execute_result",
          "data": {
            "text/plain": [
              "'\\nclassification = seperate out data\\nKNN -> we check K nearest neighbours, K = odd, to avoid split voting\\nif there are 2 groups and we choose k = 2 it can lead to split votes i.e 1 for + and 1 for - , so it will be undecisive \\nk_min = 3 \\nif there are 3 groups, k_min = 5 (not 4 as it is even)\\n^\\n|                  \\n|                  + +  +\\n|                  +  +  +\\n|                   +  +\\n|                \\n|\\n|   -   -\\n|  - -  -\\n|  - -  -\\n|____________________________________>\\n\\nevery pt has a confidence:\\nvoting(--+) = 66% confidence that pt belongs to -\\ndistance used: euclidian => very slow on a large data\\ntraining and testing are basically simillar\\n'"
            ],
            "application/vnd.google.colaboratory.intrinsic+json": {
              "type": "string"
            }
          },
          "metadata": {},
          "execution_count": 2
        }
      ],
      "source": [
        "'''\n",
        "classification = seperate out data\n",
        "KNN -> we check K nearest neighbours, K = odd, to avoid split voting\n",
        "if there are 2 groups and we choose k = 2 it can lead to split votes i.e 1 for + and 1 for - , so it will be undecisive\n",
        "k_min = 3\n",
        "if there are 3 groups, k_min = 5 (not 4 as it is even)\n",
        "^\n",
        "|\n",
        "|                  + +  +\n",
        "|                  +  +  +\n",
        "|                   +  +\n",
        "|\n",
        "|\n",
        "|   -   -\n",
        "|  - -  -\n",
        "|  - -  -\n",
        "|____________________________________>\n",
        "\n",
        "every pt has a confidence:\n",
        "voting(--+) = 66% confidence that pt belongs to -\n",
        "distance used: euclidian => very slow on a large data\n",
        "training and testing are basically simillar\n",
        "'''"
      ]
    },
    {
      "cell_type": "code",
      "source": [
        "import numpy as np\n",
        "from sklearn import preprocessing, neighbors\n",
        "from sklearn.model_selection import train_test_split\n",
        "import pandas as pd\n",
        "\n",
        "df = pd.read_csv(\"/content/breast-cancer-wisconsin.data\")\n",
        "df.replace('?', -99999, inplace = True) # most algos treat -99999 as an outlier, so rather than dumping the data we can use this\n",
        "# the ID column is useless so we drop it\n",
        "df.drop(['id'], 1, inplace = True)\n",
        "\n",
        "x = np.array(df.drop(['class'], 1))\n",
        "y = np.array(df['class'])\n",
        "\n",
        "# shuffle and seperate the data\n",
        "x_train, x_test, y_train, y_test = train_test_split(x, y, test_size = 0.2)\n",
        "\n",
        "clf = neighbors.KNeighborsClassifier(n_neighbors=5)\n",
        "\n",
        "# train the classifier .fit = training\n",
        "clf.fit(x_train, y_train)\n",
        "\n",
        "# .score is synonomous to testing\n",
        "accuracy = clf.score(x_test, y_test)\n",
        "\n",
        "print(f'accuracy: {accuracy*100}%')"
      ],
      "metadata": {
        "colab": {
          "base_uri": "https://localhost:8080/"
        },
        "id": "nfcfZeSCyDFr",
        "outputId": "bd971cea-a053-4954-90a8-ea5bdfb762c5"
      },
      "execution_count": null,
      "outputs": [
        {
          "output_type": "stream",
          "name": "stdout",
          "text": [
            "accuracy: 98.57142857142858%\n"
          ]
        },
        {
          "output_type": "stream",
          "name": "stderr",
          "text": [
            "<ipython-input-1-bdbb225b5af6>:9: FutureWarning: In a future version of pandas all arguments of DataFrame.drop except for the argument 'labels' will be keyword-only.\n",
            "  df.drop(['id'], 1, inplace = True)\n",
            "<ipython-input-1-bdbb225b5af6>:11: FutureWarning: In a future version of pandas all arguments of DataFrame.drop except for the argument 'labels' will be keyword-only.\n",
            "  x = np.array(df.drop(['class'], 1))\n"
          ]
        }
      ]
    },
    {
      "cell_type": "code",
      "source": [
        "import numpy as np\n",
        "from sklearn import neighbors\n",
        "\n",
        "# Assuming clf is your trained KNeighborsClassifier\n",
        "\n",
        "examples = np.array([[1, 2, 2, 3, 5, 8, 1, 2, 6], [12, 28, 25, 39, 56, 85, 21, 28, 48]])\n",
        "examples = examples.reshape(2, -1)  # Reshape to match the shape of training data\n",
        "\n",
        "pred = clf.predict(examples)\n",
        "print(pred)\n"
      ],
      "metadata": {
        "colab": {
          "base_uri": "https://localhost:8080/"
        },
        "id": "dPcykX0MyK-g",
        "outputId": "d4dada5d-22aa-434d-bf4d-8d44f3e9738d"
      },
      "execution_count": null,
      "outputs": [
        {
          "output_type": "stream",
          "name": "stdout",
          "text": [
            "[2 4]\n"
          ]
        }
      ]
    },
    {
      "cell_type": "code",
      "source": [
        "import numpy as np\n",
        "import matplotlib.pyplot as plt\n",
        "import warnings\n",
        "from matplotlib import style\n",
        "from collections import Counter\n",
        "\n",
        "style.use('fivethirtyeight')\n",
        "\n",
        "dataset = {'k': [[1, 2], [2, 3], [3, 1]], 'r': [[6, 5], [7, 7], [8, 6]]}\n",
        "new_pt = [1, 1]"
      ],
      "metadata": {
        "id": "GWotCTJgpLnk"
      },
      "execution_count": null,
      "outputs": []
    },
    {
      "cell_type": "code",
      "source": [
        "[[plt.scatter(ii[0], ii[1], s = 100, color = i) for ii in dataset[i]] for i in dataset]\n",
        "plt.scatter(new_pt[0], new_pt[1])"
      ],
      "metadata": {
        "colab": {
          "base_uri": "https://localhost:8080/",
          "height": 466
        },
        "id": "iCl8hW4x7Omc",
        "outputId": "93861036-5a2d-4d18-97b7-5c37517d2a34"
      },
      "execution_count": null,
      "outputs": [
        {
          "output_type": "execute_result",
          "data": {
            "text/plain": [
              "<matplotlib.collections.PathCollection at 0x7bbcaa76c340>"
            ]
          },
          "metadata": {},
          "execution_count": 19
        },
        {
          "output_type": "display_data",
          "data": {
            "text/plain": [
              "<Figure size 640x480 with 1 Axes>"
            ],
            "image/png": "[encoded data removed]"
          },
          "metadata": {}
        }
      ]
    },
    {
      "cell_type": "code",
      "source": [],
      "metadata": {
        "id": "-XhcGL7_8GGG"
      },
      "execution_count": null,
      "outputs": []
    }
  ]
}